{
 "cells": [
  {
   "cell_type": "code",
   "execution_count": 2,
   "metadata": {},
   "outputs": [],
   "source": [
    "import pandas as pd"
   ]
  },
  {
   "cell_type": "code",
   "execution_count": 3,
   "metadata": {},
   "outputs": [],
   "source": [
    "A=pd.read_csv(\"Cars93U.csv\")"
   ]
  },
  {
   "cell_type": "code",
   "execution_count": 4,
   "metadata": {},
   "outputs": [
    {
     "data": {
      "text/html": [
       "<div>\n",
       "<style scoped>\n",
       "    .dataframe tbody tr th:only-of-type {\n",
       "        vertical-align: middle;\n",
       "    }\n",
       "\n",
       "    .dataframe tbody tr th {\n",
       "        vertical-align: top;\n",
       "    }\n",
       "\n",
       "    .dataframe thead th {\n",
       "        text-align: right;\n",
       "    }\n",
       "</style>\n",
       "<table border=\"1\" class=\"dataframe\">\n",
       "  <thead>\n",
       "    <tr style=\"text-align: right;\">\n",
       "      <th></th>\n",
       "      <th>Unnamed: 0</th>\n",
       "      <th>Manufacturer</th>\n",
       "      <th>Model</th>\n",
       "      <th>Type</th>\n",
       "      <th>Min.Price</th>\n",
       "      <th>Price</th>\n",
       "      <th>Max.Price</th>\n",
       "      <th>MPG.city</th>\n",
       "      <th>MPG.highway</th>\n",
       "      <th>AirBags</th>\n",
       "      <th>...</th>\n",
       "      <th>Passengers</th>\n",
       "      <th>Length</th>\n",
       "      <th>Wheelbase</th>\n",
       "      <th>Width</th>\n",
       "      <th>Turn.circle</th>\n",
       "      <th>Rear.seat.room</th>\n",
       "      <th>Luggage.room</th>\n",
       "      <th>Weight</th>\n",
       "      <th>Origin</th>\n",
       "      <th>Make</th>\n",
       "    </tr>\n",
       "  </thead>\n",
       "  <tbody>\n",
       "    <tr>\n",
       "      <th>0</th>\n",
       "      <td>1</td>\n",
       "      <td>Acura</td>\n",
       "      <td>Integra</td>\n",
       "      <td>Small</td>\n",
       "      <td>12.9</td>\n",
       "      <td>15.9</td>\n",
       "      <td>18.8</td>\n",
       "      <td>25</td>\n",
       "      <td>31</td>\n",
       "      <td>None</td>\n",
       "      <td>...</td>\n",
       "      <td>5</td>\n",
       "      <td>177</td>\n",
       "      <td>102</td>\n",
       "      <td>68</td>\n",
       "      <td>37</td>\n",
       "      <td>26.5</td>\n",
       "      <td>11.0</td>\n",
       "      <td>2705</td>\n",
       "      <td>non-USA</td>\n",
       "      <td>Acura Integra</td>\n",
       "    </tr>\n",
       "    <tr>\n",
       "      <th>1</th>\n",
       "      <td>2</td>\n",
       "      <td>Acura</td>\n",
       "      <td>Legend</td>\n",
       "      <td>Midsize</td>\n",
       "      <td>29.2</td>\n",
       "      <td>33.9</td>\n",
       "      <td>38.7</td>\n",
       "      <td>18</td>\n",
       "      <td>25</td>\n",
       "      <td>Driver &amp; Passenger</td>\n",
       "      <td>...</td>\n",
       "      <td>5</td>\n",
       "      <td>195</td>\n",
       "      <td>115</td>\n",
       "      <td>71</td>\n",
       "      <td>38</td>\n",
       "      <td>30.0</td>\n",
       "      <td>15.0</td>\n",
       "      <td>3560</td>\n",
       "      <td>non-USA</td>\n",
       "      <td>Acura Legend</td>\n",
       "    </tr>\n",
       "    <tr>\n",
       "      <th>2</th>\n",
       "      <td>3</td>\n",
       "      <td>Audi</td>\n",
       "      <td>90</td>\n",
       "      <td>Compact</td>\n",
       "      <td>25.9</td>\n",
       "      <td>29.1</td>\n",
       "      <td>32.3</td>\n",
       "      <td>20</td>\n",
       "      <td>26</td>\n",
       "      <td>Driver only</td>\n",
       "      <td>...</td>\n",
       "      <td>5</td>\n",
       "      <td>180</td>\n",
       "      <td>102</td>\n",
       "      <td>67</td>\n",
       "      <td>37</td>\n",
       "      <td>28.0</td>\n",
       "      <td>14.0</td>\n",
       "      <td>3375</td>\n",
       "      <td>non-USA</td>\n",
       "      <td>Audi 90</td>\n",
       "    </tr>\n",
       "    <tr>\n",
       "      <th>3</th>\n",
       "      <td>4</td>\n",
       "      <td>Audi</td>\n",
       "      <td>100</td>\n",
       "      <td>Midsize</td>\n",
       "      <td>30.8</td>\n",
       "      <td>37.7</td>\n",
       "      <td>44.6</td>\n",
       "      <td>19</td>\n",
       "      <td>26</td>\n",
       "      <td>NaN</td>\n",
       "      <td>...</td>\n",
       "      <td>6</td>\n",
       "      <td>193</td>\n",
       "      <td>106</td>\n",
       "      <td>70</td>\n",
       "      <td>37</td>\n",
       "      <td>31.0</td>\n",
       "      <td>17.0</td>\n",
       "      <td>3405</td>\n",
       "      <td>non-USA</td>\n",
       "      <td>Audi 100</td>\n",
       "    </tr>\n",
       "    <tr>\n",
       "      <th>4</th>\n",
       "      <td>5</td>\n",
       "      <td>BMW</td>\n",
       "      <td>535i</td>\n",
       "      <td>Midsize</td>\n",
       "      <td>23.7</td>\n",
       "      <td>30.0</td>\n",
       "      <td>36.2</td>\n",
       "      <td>22</td>\n",
       "      <td>30</td>\n",
       "      <td>Driver only</td>\n",
       "      <td>...</td>\n",
       "      <td>4</td>\n",
       "      <td>186</td>\n",
       "      <td>109</td>\n",
       "      <td>69</td>\n",
       "      <td>39</td>\n",
       "      <td>27.0</td>\n",
       "      <td>13.0</td>\n",
       "      <td>3640</td>\n",
       "      <td>non-USA</td>\n",
       "      <td>BMW 535i</td>\n",
       "    </tr>\n",
       "  </tbody>\n",
       "</table>\n",
       "<p>5 rows × 28 columns</p>\n",
       "</div>"
      ],
      "text/plain": [
       "   Unnamed: 0 Manufacturer    Model     Type  Min.Price  Price  Max.Price  \\\n",
       "0           1        Acura  Integra    Small       12.9   15.9       18.8   \n",
       "1           2        Acura   Legend  Midsize       29.2   33.9       38.7   \n",
       "2           3         Audi       90  Compact       25.9   29.1       32.3   \n",
       "3           4         Audi      100  Midsize       30.8   37.7       44.6   \n",
       "4           5          BMW     535i  Midsize       23.7   30.0       36.2   \n",
       "\n",
       "   MPG.city  MPG.highway             AirBags  ... Passengers Length  \\\n",
       "0        25           31                None  ...          5    177   \n",
       "1        18           25  Driver & Passenger  ...          5    195   \n",
       "2        20           26         Driver only  ...          5    180   \n",
       "3        19           26                 NaN  ...          6    193   \n",
       "4        22           30         Driver only  ...          4    186   \n",
       "\n",
       "   Wheelbase  Width  Turn.circle  Rear.seat.room Luggage.room  Weight  \\\n",
       "0        102     68           37            26.5         11.0    2705   \n",
       "1        115     71           38            30.0         15.0    3560   \n",
       "2        102     67           37            28.0         14.0    3375   \n",
       "3        106     70           37            31.0         17.0    3405   \n",
       "4        109     69           39            27.0         13.0    3640   \n",
       "\n",
       "    Origin           Make  \n",
       "0  non-USA  Acura Integra  \n",
       "1  non-USA   Acura Legend  \n",
       "2  non-USA        Audi 90  \n",
       "3  non-USA       Audi 100  \n",
       "4  non-USA       BMW 535i  \n",
       "\n",
       "[5 rows x 28 columns]"
      ]
     },
     "execution_count": 4,
     "metadata": {},
     "output_type": "execute_result"
    }
   ],
   "source": [
    "A.head()"
   ]
  },
  {
   "cell_type": "markdown",
   "metadata": {},
   "source": [
    "# Data Preprocessing-"
   ]
  },
  {
   "cell_type": "markdown",
   "metadata": {},
   "source": [
    "Missing_Value Tritment"
   ]
  },
  {
   "cell_type": "code",
   "execution_count": 5,
   "metadata": {},
   "outputs": [
    {
     "name": "stdout",
     "output_type": "stream",
     "text": [
      "<class 'pandas.core.frame.DataFrame'>\n",
      "RangeIndex: 93 entries, 0 to 92\n",
      "Data columns (total 28 columns):\n",
      " #   Column              Non-Null Count  Dtype  \n",
      "---  ------              --------------  -----  \n",
      " 0   Unnamed: 0          93 non-null     int64  \n",
      " 1   Manufacturer        93 non-null     object \n",
      " 2   Model               93 non-null     object \n",
      " 3   Type                93 non-null     object \n",
      " 4   Min.Price           93 non-null     float64\n",
      " 5   Price               93 non-null     float64\n",
      " 6   Max.Price           93 non-null     float64\n",
      " 7   MPG.city            93 non-null     int64  \n",
      " 8   MPG.highway         93 non-null     int64  \n",
      " 9   AirBags             89 non-null     object \n",
      " 10  DriveTrain          93 non-null     object \n",
      " 11  Cylinders           93 non-null     object \n",
      " 12  EngineSize          93 non-null     float64\n",
      " 13  Horsepower          93 non-null     int64  \n",
      " 14  RPM                 93 non-null     int64  \n",
      " 15  Rev.per.mile        93 non-null     int64  \n",
      " 16  Man.trans.avail     93 non-null     object \n",
      " 17  Fuel.tank.capacity  93 non-null     float64\n",
      " 18  Passengers          93 non-null     int64  \n",
      " 19  Length              93 non-null     int64  \n",
      " 20  Wheelbase           93 non-null     int64  \n",
      " 21  Width               93 non-null     int64  \n",
      " 22  Turn.circle         93 non-null     int64  \n",
      " 23  Rear.seat.room      91 non-null     float64\n",
      " 24  Luggage.room        82 non-null     float64\n",
      " 25  Weight              93 non-null     int64  \n",
      " 26  Origin              93 non-null     object \n",
      " 27  Make                93 non-null     object \n",
      "dtypes: float64(7), int64(12), object(9)\n",
      "memory usage: 20.5+ KB\n"
     ]
    }
   ],
   "source": [
    "A.info()"
   ]
  },
  {
   "cell_type": "code",
   "execution_count": 6,
   "metadata": {},
   "outputs": [
    {
     "data": {
      "text/plain": [
       "Unnamed: 0             0\n",
       "Manufacturer           0\n",
       "Model                  0\n",
       "Type                   0\n",
       "Min.Price              0\n",
       "Price                  0\n",
       "Max.Price              0\n",
       "MPG.city               0\n",
       "MPG.highway            0\n",
       "AirBags                4\n",
       "DriveTrain             0\n",
       "Cylinders              0\n",
       "EngineSize             0\n",
       "Horsepower             0\n",
       "RPM                    0\n",
       "Rev.per.mile           0\n",
       "Man.trans.avail        0\n",
       "Fuel.tank.capacity     0\n",
       "Passengers             0\n",
       "Length                 0\n",
       "Wheelbase              0\n",
       "Width                  0\n",
       "Turn.circle            0\n",
       "Rear.seat.room         2\n",
       "Luggage.room          11\n",
       "Weight                 0\n",
       "Origin                 0\n",
       "Make                   0\n",
       "dtype: int64"
      ]
     },
     "execution_count": 6,
     "metadata": {},
     "output_type": "execute_result"
    }
   ],
   "source": [
    "A.isna().sum()"
   ]
  },
  {
   "cell_type": "code",
   "execution_count": 7,
   "metadata": {},
   "outputs": [],
   "source": [
    "cat=[]\n",
    "con=[]\n",
    "for i in A.columns:\n",
    "    if A[i].dtypes==\"object\":\n",
    "        cat.append(i)\n",
    "    else:\n",
    "        con.append(i)"
   ]
  },
  {
   "cell_type": "code",
   "execution_count": 8,
   "metadata": {},
   "outputs": [
    {
     "data": {
      "text/plain": [
       "['Manufacturer',\n",
       " 'Model',\n",
       " 'Type',\n",
       " 'AirBags',\n",
       " 'DriveTrain',\n",
       " 'Cylinders',\n",
       " 'Man.trans.avail',\n",
       " 'Origin',\n",
       " 'Make']"
      ]
     },
     "execution_count": 8,
     "metadata": {},
     "output_type": "execute_result"
    }
   ],
   "source": [
    "cat"
   ]
  },
  {
   "cell_type": "code",
   "execution_count": 9,
   "metadata": {},
   "outputs": [
    {
     "data": {
      "text/plain": [
       "['Unnamed: 0',\n",
       " 'Min.Price',\n",
       " 'Price',\n",
       " 'Max.Price',\n",
       " 'MPG.city',\n",
       " 'MPG.highway',\n",
       " 'EngineSize',\n",
       " 'Horsepower',\n",
       " 'RPM',\n",
       " 'Rev.per.mile',\n",
       " 'Fuel.tank.capacity',\n",
       " 'Passengers',\n",
       " 'Length',\n",
       " 'Wheelbase',\n",
       " 'Width',\n",
       " 'Turn.circle',\n",
       " 'Rear.seat.room',\n",
       " 'Luggage.room',\n",
       " 'Weight']"
      ]
     },
     "execution_count": 9,
     "metadata": {},
     "output_type": "execute_result"
    }
   ],
   "source": [
    "con"
   ]
  },
  {
   "cell_type": "code",
   "execution_count": 10,
   "metadata": {},
   "outputs": [],
   "source": [
    "def replacer(df):\n",
    "    Q = pd.DataFrame(df.isna().sum())\n",
    "    Q.columns=[\"CT\"]\n",
    "    w = list(Q[Q.CT>0].index)\n",
    "    \n",
    "    cat = []\n",
    "    con = []\n",
    "    for i in w:\n",
    "        if(df[i].dtypes==\"object\"):\n",
    "            cat.append(i)\n",
    "        else:\n",
    "            con.append(i)\n",
    "\n",
    "    for i in con:\n",
    "        replacer = df[i].mean()\n",
    "        df[i] = df[i].fillna(replacer)\n",
    "\n",
    "    for i in cat:\n",
    "        replacer = pd.DataFrame(df[i].value_counts()).index[0]\n",
    "        df[i] = df[i].fillna(replacer)"
   ]
  },
  {
   "cell_type": "code",
   "execution_count": 11,
   "metadata": {},
   "outputs": [],
   "source": [
    "replacer(A)"
   ]
  },
  {
   "cell_type": "code",
   "execution_count": 12,
   "metadata": {},
   "outputs": [
    {
     "data": {
      "text/plain": [
       "Unnamed: 0            0\n",
       "Manufacturer          0\n",
       "Model                 0\n",
       "Type                  0\n",
       "Min.Price             0\n",
       "Price                 0\n",
       "Max.Price             0\n",
       "MPG.city              0\n",
       "MPG.highway           0\n",
       "AirBags               0\n",
       "DriveTrain            0\n",
       "Cylinders             0\n",
       "EngineSize            0\n",
       "Horsepower            0\n",
       "RPM                   0\n",
       "Rev.per.mile          0\n",
       "Man.trans.avail       0\n",
       "Fuel.tank.capacity    0\n",
       "Passengers            0\n",
       "Length                0\n",
       "Wheelbase             0\n",
       "Width                 0\n",
       "Turn.circle           0\n",
       "Rear.seat.room        0\n",
       "Luggage.room          0\n",
       "Weight                0\n",
       "Origin                0\n",
       "Make                  0\n",
       "dtype: int64"
      ]
     },
     "execution_count": 12,
     "metadata": {},
     "output_type": "execute_result"
    }
   ],
   "source": [
    "A.isna().sum()"
   ]
  },
  {
   "cell_type": "markdown",
   "metadata": {},
   "source": [
    "# EDA-"
   ]
  },
  {
   "cell_type": "code",
   "execution_count": 13,
   "metadata": {},
   "outputs": [],
   "source": [
    "import matplotlib.pyplot as plt\n",
    "import seaborn as sb"
   ]
  },
  {
   "cell_type": "code",
   "execution_count": 14,
   "metadata": {},
   "outputs": [
    {
     "name": "stderr",
     "output_type": "stream",
     "text": [
      "C:\\Users\\deven\\anaconda3\\lib\\site-packages\\seaborn\\_decorators.py:36: FutureWarning: Pass the following variables as keyword args: x, y. From version 0.12, the only valid positional argument will be `data`, and passing other arguments without an explicit keyword will result in an error or misinterpretation.\n",
      "  warnings.warn(\n",
      "C:\\Users\\deven\\anaconda3\\lib\\site-packages\\seaborn\\_decorators.py:36: FutureWarning: Pass the following variables as keyword args: x, y. From version 0.12, the only valid positional argument will be `data`, and passing other arguments without an explicit keyword will result in an error or misinterpretation.\n",
      "  warnings.warn(\n",
      "C:\\Users\\deven\\anaconda3\\lib\\site-packages\\seaborn\\_decorators.py:36: FutureWarning: Pass the following variables as keyword args: x, y. From version 0.12, the only valid positional argument will be `data`, and passing other arguments without an explicit keyword will result in an error or misinterpretation.\n",
      "  warnings.warn(\n",
      "C:\\Users\\deven\\anaconda3\\lib\\site-packages\\seaborn\\_decorators.py:36: FutureWarning: Pass the following variables as keyword args: x, y. From version 0.12, the only valid positional argument will be `data`, and passing other arguments without an explicit keyword will result in an error or misinterpretation.\n",
      "  warnings.warn(\n",
      "C:\\Users\\deven\\anaconda3\\lib\\site-packages\\seaborn\\_decorators.py:36: FutureWarning: Pass the following variables as keyword args: x, y. From version 0.12, the only valid positional argument will be `data`, and passing other arguments without an explicit keyword will result in an error or misinterpretation.\n",
      "  warnings.warn(\n"
     ]
    },
    {
     "data": {
      "text/plain": [
       "<AxesSubplot:xlabel='Price', ylabel='Passengers'>"
      ]
     },
     "execution_count": 14,
     "metadata": {},
     "output_type": "execute_result"
    },
    {
     "data": {
      "image/png": "[encoded data removed]",
      "text/plain": [
       "<Figure size 1224x720 with 5 Axes>"
      ]
     },
     "metadata": {
      "needs_background": "light"
     },
     "output_type": "display_data"
    }
   ],
   "source": [
    "plt.figure(figsize=(17,10))\n",
    "plt.subplot(3,2,1)\n",
    "sb.scatterplot(A.Price,A.Horsepower)\n",
    "plt.subplot(3,2,2)\n",
    "sb.scatterplot(A.Price,A.Weight)\n",
    "plt.subplot(3,2,3)\n",
    "sb.scatterplot(A.Price,A.Width)\n",
    "plt.subplot(3,2,4)\n",
    "sb.scatterplot(A.Price,A.Length)\n",
    "plt.subplot(3,2,5)\n",
    "sb.scatterplot(A.Price,A.Passengers)"
   ]
  },
  {
   "cell_type": "markdown",
   "metadata": {},
   "source": [
    "# Anova Test-"
   ]
  },
  {
   "cell_type": "code",
   "execution_count": 15,
   "metadata": {},
   "outputs": [],
   "source": [
    "def ANOVA (con,cat,DF):\n",
    "    from statsmodels.api import OLS\n",
    "    from statsmodels.formula.api import ols\n",
    "    rel = con+\"\"+\"~\"+\"\"+cat\n",
    "    model = ols(rel,DF).fit()\n",
    "    from statsmodels.stats.anova import anova_lm\n",
    "    anova_results = anova_lm(model)\n",
    "    Q = pd.DataFrame(anova_results)\n",
    "    a = Q['PR(>F)'][cat]\n",
    "    print(\"%.40f\"%a)"
   ]
  },
  {
   "cell_type": "code",
   "execution_count": 16,
   "metadata": {},
   "outputs": [
    {
     "data": {
      "text/plain": [
       "['Manufacturer',\n",
       " 'Model',\n",
       " 'Type',\n",
       " 'AirBags',\n",
       " 'DriveTrain',\n",
       " 'Cylinders',\n",
       " 'Man.trans.avail',\n",
       " 'Origin',\n",
       " 'Make']"
      ]
     },
     "execution_count": 16,
     "metadata": {},
     "output_type": "execute_result"
    }
   ],
   "source": [
    "cat"
   ]
  },
  {
   "cell_type": "code",
   "execution_count": 17,
   "metadata": {},
   "outputs": [
    {
     "name": "stdout",
     "output_type": "stream",
     "text": [
      "0.0000010794856854600545676976363490551236\n"
     ]
    }
   ],
   "source": [
    "ANOVA(\"Price\",\"Manufacturer\",A)"
   ]
  },
  {
   "cell_type": "code",
   "execution_count": 18,
   "metadata": {},
   "outputs": [
    {
     "name": "stdout",
     "output_type": "stream",
     "text": [
      "0.0000000147699903566454386534008137677951\n"
     ]
    }
   ],
   "source": [
    "ANOVA(\"Price\",\"Type\",A)"
   ]
  },
  {
   "cell_type": "code",
   "execution_count": 19,
   "metadata": {},
   "outputs": [
    {
     "name": "stdout",
     "output_type": "stream",
     "text": [
      "0.0000007207033347013524509600359592431662\n"
     ]
    }
   ],
   "source": [
    "ANOVA(\"Price\",\"AirBags\",A)"
   ]
  },
  {
   "cell_type": "code",
   "execution_count": 20,
   "metadata": {},
   "outputs": [
    {
     "name": "stdout",
     "output_type": "stream",
     "text": [
      "0.0000420186487725166424745532056661545539\n"
     ]
    }
   ],
   "source": [
    "ANOVA(\"Price\",\"DriveTrain\",A)"
   ]
  },
  {
   "cell_type": "code",
   "execution_count": 21,
   "metadata": {},
   "outputs": [
    {
     "name": "stdout",
     "output_type": "stream",
     "text": [
      "0.0000000003042776105990511385677817238974\n"
     ]
    }
   ],
   "source": [
    "ANOVA(\"Price\",\"Cylinders\",A)"
   ]
  },
  {
   "cell_type": "code",
   "execution_count": 22,
   "metadata": {},
   "outputs": [
    {
     "name": "stdout",
     "output_type": "stream",
     "text": [
      "0.3368302180836658665796790046442765742540\n"
     ]
    }
   ],
   "source": [
    "ANOVA(\"Price\",\"Origin\",A)"
   ]
  },
  {
   "cell_type": "markdown",
   "metadata": {},
   "source": [
    "# Linear Regression"
   ]
  },
  {
   "cell_type": "markdown",
   "metadata": {},
   "source": [
    "Correlation\n"
   ]
  },
  {
   "cell_type": "code",
   "execution_count": 23,
   "metadata": {},
   "outputs": [],
   "source": [
    "B=A.corr()"
   ]
  },
  {
   "cell_type": "code",
   "execution_count": 24,
   "metadata": {},
   "outputs": [
    {
     "data": {
      "text/html": [
       "<div>\n",
       "<style scoped>\n",
       "    .dataframe tbody tr th:only-of-type {\n",
       "        vertical-align: middle;\n",
       "    }\n",
       "\n",
       "    .dataframe tbody tr th {\n",
       "        vertical-align: top;\n",
       "    }\n",
       "\n",
       "    .dataframe thead th {\n",
       "        text-align: right;\n",
       "    }\n",
       "</style>\n",
       "<table border=\"1\" class=\"dataframe\">\n",
       "  <thead>\n",
       "    <tr style=\"text-align: right;\">\n",
       "      <th></th>\n",
       "      <th>Price</th>\n",
       "    </tr>\n",
       "  </thead>\n",
       "  <tbody>\n",
       "    <tr>\n",
       "      <th>MPG.city</th>\n",
       "      <td>-0.594562</td>\n",
       "    </tr>\n",
       "    <tr>\n",
       "      <th>MPG.highway</th>\n",
       "      <td>-0.560680</td>\n",
       "    </tr>\n",
       "    <tr>\n",
       "      <th>Rev.per.mile</th>\n",
       "      <td>-0.426395</td>\n",
       "    </tr>\n",
       "    <tr>\n",
       "      <th>Unnamed: 0</th>\n",
       "      <td>-0.137277</td>\n",
       "    </tr>\n",
       "    <tr>\n",
       "      <th>RPM</th>\n",
       "      <td>-0.004955</td>\n",
       "    </tr>\n",
       "    <tr>\n",
       "      <th>Passengers</th>\n",
       "      <td>0.057860</td>\n",
       "    </tr>\n",
       "    <tr>\n",
       "      <th>Rear.seat.room</th>\n",
       "      <td>0.301888</td>\n",
       "    </tr>\n",
       "    <tr>\n",
       "      <th>Luggage.room</th>\n",
       "      <td>0.354635</td>\n",
       "    </tr>\n",
       "    <tr>\n",
       "      <th>Turn.circle</th>\n",
       "      <td>0.392590</td>\n",
       "    </tr>\n",
       "    <tr>\n",
       "      <th>Width</th>\n",
       "      <td>0.456028</td>\n",
       "    </tr>\n",
       "    <tr>\n",
       "      <th>Wheelbase</th>\n",
       "      <td>0.500864</td>\n",
       "    </tr>\n",
       "    <tr>\n",
       "      <th>Length</th>\n",
       "      <td>0.503628</td>\n",
       "    </tr>\n",
       "    <tr>\n",
       "      <th>EngineSize</th>\n",
       "      <td>0.597425</td>\n",
       "    </tr>\n",
       "    <tr>\n",
       "      <th>Fuel.tank.capacity</th>\n",
       "      <td>0.619480</td>\n",
       "    </tr>\n",
       "    <tr>\n",
       "      <th>Weight</th>\n",
       "      <td>0.647179</td>\n",
       "    </tr>\n",
       "    <tr>\n",
       "      <th>Horsepower</th>\n",
       "      <td>0.788218</td>\n",
       "    </tr>\n",
       "    <tr>\n",
       "      <th>Min.Price</th>\n",
       "      <td>0.970601</td>\n",
       "    </tr>\n",
       "    <tr>\n",
       "      <th>Max.Price</th>\n",
       "      <td>0.981580</td>\n",
       "    </tr>\n",
       "    <tr>\n",
       "      <th>Price</th>\n",
       "      <td>1.000000</td>\n",
       "    </tr>\n",
       "  </tbody>\n",
       "</table>\n",
       "</div>"
      ],
      "text/plain": [
       "                       Price\n",
       "MPG.city           -0.594562\n",
       "MPG.highway        -0.560680\n",
       "Rev.per.mile       -0.426395\n",
       "Unnamed: 0         -0.137277\n",
       "RPM                -0.004955\n",
       "Passengers          0.057860\n",
       "Rear.seat.room      0.301888\n",
       "Luggage.room        0.354635\n",
       "Turn.circle         0.392590\n",
       "Width               0.456028\n",
       "Wheelbase           0.500864\n",
       "Length              0.503628\n",
       "EngineSize          0.597425\n",
       "Fuel.tank.capacity  0.619480\n",
       "Weight              0.647179\n",
       "Horsepower          0.788218\n",
       "Min.Price           0.970601\n",
       "Max.Price           0.981580\n",
       "Price               1.000000"
      ]
     },
     "execution_count": 24,
     "metadata": {},
     "output_type": "execute_result"
    }
   ],
   "source": [
    "B[[\"Price\"]].sort_values(by=\"Price\")"
   ]
  },
  {
   "cell_type": "markdown",
   "metadata": {},
   "source": [
    "# Use Feature Selection For Select Best Predictor"
   ]
  },
  {
   "cell_type": "code",
   "execution_count": 25,
   "metadata": {},
   "outputs": [
    {
     "data": {
      "text/html": [
       "<table class=\"simpletable\">\n",
       "<caption>OLS Regression Results</caption>\n",
       "<tr>\n",
       "  <th>Dep. Variable:</th>          <td>Price</td>      <th>  R-squared:         </th> <td>   0.631</td>\n",
       "</tr>\n",
       "<tr>\n",
       "  <th>Model:</th>                   <td>OLS</td>       <th>  Adj. R-squared:    </th> <td>   0.616</td>\n",
       "</tr>\n",
       "<tr>\n",
       "  <th>Method:</th>             <td>Least Squares</td>  <th>  F-statistic:       </th> <td>   39.97</td>\n",
       "</tr>\n",
       "<tr>\n",
       "  <th>Date:</th>             <td>Mon, 14 Jun 2021</td> <th>  Prob (F-statistic):</th> <td>3.65e-15</td>\n",
       "</tr>\n",
       "<tr>\n",
       "  <th>Time:</th>                 <td>14:58:31</td>     <th>  Log-Likelihood:    </th> <td> -236.42</td>\n",
       "</tr>\n",
       "<tr>\n",
       "  <th>No. Observations:</th>      <td>    74</td>      <th>  AIC:               </th> <td>   480.8</td>\n",
       "</tr>\n",
       "<tr>\n",
       "  <th>Df Residuals:</th>          <td>    70</td>      <th>  BIC:               </th> <td>   490.1</td>\n",
       "</tr>\n",
       "<tr>\n",
       "  <th>Df Model:</th>              <td>     3</td>      <th>                     </th>     <td> </td>   \n",
       "</tr>\n",
       "<tr>\n",
       "  <th>Covariance Type:</th>      <td>nonrobust</td>    <th>                     </th>     <td> </td>   \n",
       "</tr>\n",
       "</table>\n",
       "<table class=\"simpletable\">\n",
       "<tr>\n",
       "       <td></td>         <th>coef</th>     <th>std err</th>      <th>t</th>      <th>P>|t|</th>  <th>[0.025</th>    <th>0.975]</th>  \n",
       "</tr>\n",
       "<tr>\n",
       "  <th>const</th>      <td>   56.6546</td> <td>   20.086</td> <td>    2.821</td> <td> 0.006</td> <td>   16.595</td> <td>   96.714</td>\n",
       "</tr>\n",
       "<tr>\n",
       "  <th>Horsepower</th> <td>    0.1201</td> <td>    0.019</td> <td>    6.167</td> <td> 0.000</td> <td>    0.081</td> <td>    0.159</td>\n",
       "</tr>\n",
       "<tr>\n",
       "  <th>Width</th>      <td>   -1.1757</td> <td>    0.380</td> <td>   -3.092</td> <td> 0.003</td> <td>   -1.934</td> <td>   -0.417</td>\n",
       "</tr>\n",
       "<tr>\n",
       "  <th>Weight</th>     <td>    0.0089</td> <td>    0.003</td> <td>    3.178</td> <td> 0.002</td> <td>    0.003</td> <td>    0.014</td>\n",
       "</tr>\n",
       "</table>\n",
       "<table class=\"simpletable\">\n",
       "<tr>\n",
       "  <th>Omnibus:</th>       <td>41.428</td> <th>  Durbin-Watson:     </th> <td>   1.929</td>\n",
       "</tr>\n",
       "<tr>\n",
       "  <th>Prob(Omnibus):</th> <td> 0.000</td> <th>  Jarque-Bera (JB):  </th> <td> 173.569</td>\n",
       "</tr>\n",
       "<tr>\n",
       "  <th>Skew:</th>          <td> 1.592</td> <th>  Prob(JB):          </th> <td>2.04e-38</td>\n",
       "</tr>\n",
       "<tr>\n",
       "  <th>Kurtosis:</th>      <td> 9.794</td> <th>  Cond. No.          </th> <td>8.96e+04</td>\n",
       "</tr>\n",
       "</table><br/><br/>Notes:<br/>[1] Standard Errors assume that the covariance matrix of the errors is correctly specified.<br/>[2] The condition number is large, 8.96e+04. This might indicate that there are<br/>strong multicollinearity or other numerical problems."
      ],
      "text/plain": [
       "<class 'statsmodels.iolib.summary.Summary'>\n",
       "\"\"\"\n",
       "                            OLS Regression Results                            \n",
       "==============================================================================\n",
       "Dep. Variable:                  Price   R-squared:                       0.631\n",
       "Model:                            OLS   Adj. R-squared:                  0.616\n",
       "Method:                 Least Squares   F-statistic:                     39.97\n",
       "Date:                Mon, 14 Jun 2021   Prob (F-statistic):           3.65e-15\n",
       "Time:                        14:58:31   Log-Likelihood:                -236.42\n",
       "No. Observations:                  74   AIC:                             480.8\n",
       "Df Residuals:                      70   BIC:                             490.1\n",
       "Df Model:                           3                                         \n",
       "Covariance Type:            nonrobust                                         \n",
       "==============================================================================\n",
       "                 coef    std err          t      P>|t|      [0.025      0.975]\n",
       "------------------------------------------------------------------------------\n",
       "const         56.6546     20.086      2.821      0.006      16.595      96.714\n",
       "Horsepower     0.1201      0.019      6.167      0.000       0.081       0.159\n",
       "Width         -1.1757      0.380     -3.092      0.003      -1.934      -0.417\n",
       "Weight         0.0089      0.003      3.178      0.002       0.003       0.014\n",
       "==============================================================================\n",
       "Omnibus:                       41.428   Durbin-Watson:                   1.929\n",
       "Prob(Omnibus):                  0.000   Jarque-Bera (JB):              173.569\n",
       "Skew:                           1.592   Prob(JB):                     2.04e-38\n",
       "Kurtosis:                       9.794   Cond. No.                     8.96e+04\n",
       "==============================================================================\n",
       "\n",
       "Notes:\n",
       "[1] Standard Errors assume that the covariance matrix of the errors is correctly specified.\n",
       "[2] The condition number is large, 8.96e+04. This might indicate that there are\n",
       "strong multicollinearity or other numerical problems.\n",
       "\"\"\""
      ]
     },
     "execution_count": 25,
     "metadata": {},
     "output_type": "execute_result"
    }
   ],
   "source": [
    "from statsmodels.api import add_constant,OLS\n",
    "X=add_constant(A[con])\n",
    "X=X.drop(labels=[\"Price\",\"Unnamed: 0\",\"Min.Price\",\"Max.Price\",\"MPG.city\",\"MPG.highway\",\"EngineSize\",\"RPM\",\"Rev.per.mile\",\"Fuel.tank.capacity\",\"Passengers\",\"Length\",\"Wheelbase\",\"Turn.circle\",\"Rear.seat.room\",\"Luggage.room\"],axis=1)\n",
    "Y=A[[\"Price\"]]\n",
    "\n",
    "from sklearn.model_selection import train_test_split\n",
    "xtrain,xtest,ytrain,ytest=train_test_split(X,Y,test_size=0.2,random_state=20)\n",
    "\n",
    "ols=OLS(ytrain,xtrain)\n",
    "model=ols.fit()\n",
    "model.summary()"
   ]
  },
  {
   "cell_type": "markdown",
   "metadata": {},
   "source": [
    "# Multiple Linear Regression"
   ]
  },
  {
   "cell_type": "code",
   "execution_count": 26,
   "metadata": {},
   "outputs": [
    {
     "name": "stdout",
     "output_type": "stream",
     "text": [
      "Validation=2.16\n"
     ]
    }
   ],
   "source": [
    "Y=A[[\"Price\"]]\n",
    "X=A[[\"Horsepower\",\"Weight\",\"Width\"]]\n",
    "from sklearn.model_selection import train_test_split\n",
    "xtrain,xtest,ytrain,ytest=train_test_split(X,Y,test_size=0.2,random_state=20)\n",
    "\n",
    "from sklearn.linear_model import LinearRegression\n",
    "lm=LinearRegression()\n",
    "model=lm.fit(xtrain,ytrain)\n",
    "\n",
    "pred=model.predict(xtest)\n",
    "\n",
    "from sklearn.metrics import mean_absolute_error\n",
    "print(\"Validation=%.2f\"%mean_absolute_error(ytest,pred))"
   ]
  },
  {
   "cell_type": "markdown",
   "metadata": {},
   "source": [
    "# Multiple Linear Regression With One Hot Encoding"
   ]
  },
  {
   "cell_type": "code",
   "execution_count": 27,
   "metadata": {},
   "outputs": [
    {
     "name": "stdout",
     "output_type": "stream",
     "text": [
      "Validation=4.10\n"
     ]
    }
   ],
   "source": [
    "Y=A[[\"Price\"]]\n",
    "X=A[[\"Horsepower\",\"Weight\",\"Width\"]]\n",
    "X=X.join(pd.get_dummies(A[[\"Manufacturer\",\"Cylinders\",\"Type\"]]))\n",
    "from sklearn.model_selection import train_test_split\n",
    "xtrain,xtest,ytrain,ytest=train_test_split(X,Y,test_size=0.2,random_state=20)\n",
    "\n",
    "from sklearn.linear_model import LinearRegression\n",
    "lm=LinearRegression()\n",
    "model=lm.fit(xtrain,ytrain)\n",
    "\n",
    "pred=model.predict(xtest)\n",
    "\n",
    "from sklearn.metrics import mean_absolute_error\n",
    "print(\"Validation=%.2f\"%mean_absolute_error(ytest,pred))\n"
   ]
  },
  {
   "cell_type": "markdown",
   "metadata": {},
   "source": [
    "# Ridge Regression"
   ]
  },
  {
   "cell_type": "markdown",
   "metadata": {},
   "source": [
    "1-Ridge Regression"
   ]
  },
  {
   "cell_type": "code",
   "execution_count": 28,
   "metadata": {},
   "outputs": [],
   "source": [
    "tg=[]\n",
    "Q=0.9999\n",
    "for i in range(1,100,1):\n",
    "    tg.append(Q-0.0001)\n",
    "    Q=Q-0.0001"
   ]
  },
  {
   "cell_type": "code",
   "execution_count": 29,
   "metadata": {},
   "outputs": [],
   "source": [
    "Q=0\n",
    "for i in range(1,100,1):\n",
    "    tg.append(Q+0.001)\n",
    "    Q=Q+0.001\n",
    "    "
   ]
  },
  {
   "cell_type": "code",
   "execution_count": 30,
   "metadata": {},
   "outputs": [
    {
     "data": {
      "text/plain": [
       "{'alpha': 0.9998}"
      ]
     },
     "execution_count": 30,
     "metadata": {},
     "output_type": "execute_result"
    }
   ],
   "source": [
    "from sklearn.model_selection import GridSearchCV\n",
    "from sklearn.linear_model import Ridge\n",
    "rr=Ridge()\n",
    "tp={\"alpha\":tg}\n",
    "cv=GridSearchCV(rr,tp,scoring=\"neg_mean_absolute_error\",cv=3)\n",
    "cvmodel=cv.fit(X,Y)\n",
    "cvmodel.best_params_"
   ]
  },
  {
   "cell_type": "code",
   "execution_count": 31,
   "metadata": {},
   "outputs": [
    {
     "name": "stdout",
     "output_type": "stream",
     "text": [
      "validaton=2.40\n"
     ]
    }
   ],
   "source": [
    "from sklearn.linear_model import Ridge\n",
    "rr=Ridge(alpha=0.9998)\n",
    "model=rr.fit(xtrain,ytrain)\n",
    "\n",
    "pred=model.predict(xtest)\n",
    "\n",
    "from sklearn.metrics import mean_absolute_error\n",
    "print(\"validaton=%.2f\"%mean_absolute_error(ytest,pred))"
   ]
  },
  {
   "cell_type": "markdown",
   "metadata": {},
   "source": [
    "Lasso-"
   ]
  },
  {
   "cell_type": "code",
   "execution_count": 32,
   "metadata": {},
   "outputs": [
    {
     "data": {
      "text/plain": [
       "{'alpha': 0.9900000000000011}"
      ]
     },
     "execution_count": 32,
     "metadata": {},
     "output_type": "execute_result"
    }
   ],
   "source": [
    "from sklearn.model_selection import GridSearchCV\n",
    "from sklearn.linear_model import Lasso\n",
    "lso=Lasso()\n",
    "tp={\"alpha\":tg}\n",
    "cv=GridSearchCV(lso,tp,scoring=\"neg_mean_absolute_error\")\n",
    "cvmodel=cv.fit(X,Y)\n",
    "cvmodel.best_params_"
   ]
  },
  {
   "cell_type": "code",
   "execution_count": 33,
   "metadata": {},
   "outputs": [
    {
     "name": "stdout",
     "output_type": "stream",
     "text": [
      "Validation=2.19\n"
     ]
    }
   ],
   "source": [
    "from sklearn.linear_model import Lasso\n",
    "lso=Lasso(alpha= 0.9900000000000011)\n",
    "model=lso.fit(xtrain,ytrain)\n",
    "\n",
    "pred=model.predict(xtest)\n",
    "\n",
    "from sklearn.metrics import mean_absolute_error\n",
    "print(\"Validation=%.2f\"%mean_absolute_error(ytest,pred))"
   ]
  },
  {
   "cell_type": "markdown",
   "metadata": {},
   "source": [
    "# Best Model"
   ]
  },
  {
   "cell_type": "code",
   "execution_count": 34,
   "metadata": {},
   "outputs": [
    {
     "name": "stdout",
     "output_type": "stream",
     "text": [
      "Validation=2.16\n"
     ]
    }
   ],
   "source": [
    "Y=A[[\"Price\"]]\n",
    "X=A[[\"Horsepower\",\"Weight\",\"Width\"]]\n",
    "from sklearn.model_selection import train_test_split\n",
    "xtrain,xtest,ytrain,ytest=train_test_split(X,Y,test_size=0.2,random_state=20)\n",
    "\n",
    "from sklearn.linear_model import LinearRegression\n",
    "lm=LinearRegression()\n",
    "model=lm.fit(xtrain,ytrain)\n",
    "\n",
    "pred=model.predict(xtest)\n",
    "\n",
    "from sklearn.metrics import mean_absolute_error\n",
    "print(\"Validation=%.2f\"%mean_absolute_error(ytest,pred))"
   ]
  },
  {
   "cell_type": "code",
   "execution_count": null,
   "metadata": {},
   "outputs": [],
   "source": []
  }
 ],
 "metadata": {
  "kernelspec": {
   "display_name": "Python 3",
   "language": "python",
   "name": "python3"
  },
  "language_info": {
   "codemirror_mode": {
    "name": "ipython",
    "version": 3
   },
   "file_extension": ".py",
   "mimetype": "text/x-python",
   "name": "python",
   "nbconvert_exporter": "python",
   "pygments_lexer": "ipython3",
   "version": "3.8.5"
  }
 },
 "nbformat": 4,
 "nbformat_minor": 4
}
